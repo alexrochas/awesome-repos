{
 "cells": [
  {
   "cell_type": "code",
   "execution_count": null,
   "metadata": {},
   "outputs": [],
   "source": [
    "require 'octokit'\n",
    "require 'pp'\n",
    "\n",
    "client = Octokit::Client.new(:login => 'alexrochas', :password => ENV['GITHUB_PASS'], per_page: 200)\n",
    "# client.auto_paginate = true"
   ]
  },
  {
   "cell_type": "code",
   "execution_count": null,
   "metadata": {},
   "outputs": [],
   "source": [
    "pp client.repos\n",
    "repos = client\n",
    "          .repos\n",
    "          .select {|repo| !repo.private }"
   ]
  },
  {
   "cell_type": "code",
   "execution_count": null,
   "metadata": {},
   "outputs": [],
   "source": [
    "formatted_repos = repos.map {|repo| \n",
    "    {\n",
    "      name: repo.name, \n",
    "      url: repo.html_url,\n",
    "      description: repo.description,\n",
    "      languages: client.languages(repo.full_name)\n",
    "    } \n",
    "  }\n",
    "\n",
    "formatted_repos"
   ]
  },
  {
   "cell_type": "code",
   "execution_count": null,
   "metadata": {},
   "outputs": [],
   "source": [
    "formatted_repos.map {|repo|\n",
    "    puts \"[#{repo[:name]}](#{repo[:url]})\"\n",
    "    puts \"> #{repo[:description]}, [#{repo[:languages].map{|l| l.first.to_s}.join(', ')}]\\n\"\n",
    "  }"
   ]
  },
  {
   "cell_type": "code",
   "execution_count": null,
   "metadata": {},
   "outputs": [],
   "source": []
  }
 ],
 "metadata": {
  "kernelspec": {
   "display_name": "Ruby 2.4.1",
   "language": "ruby",
   "name": "ruby"
  },
  "language_info": {
   "file_extension": ".rb",
   "mimetype": "application/x-ruby",
   "name": "ruby",
   "version": "2.4.1"
  }
 },
 "nbformat": 4,
 "nbformat_minor": 2
}
